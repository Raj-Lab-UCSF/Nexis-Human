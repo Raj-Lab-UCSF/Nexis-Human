{
 "cells": [
  {
   "cell_type": "code",
   "execution_count": 24,
   "metadata": {},
   "outputs": [],
   "source": [
    "import os\n",
    "import numpy as np\n",
    "import scipy as sp\n",
    "import scipy.io\n",
    "from scipy.linalg import expm\n",
    "import pandas as pandas\n",
    "import matplotlib.pyplot as plt\n",
    "from scipy.integrate import odeint\n",
    "from scipy.optimize import minimize\n",
    "from Nexis_human_functions import heatmap, normalize_by_l2_norm, mse_matrix, Nexis_error\n",
    "from functools import partial\n",
    "from scipy.stats import pearsonr\n",
    "from Nexis_human_model import run_Nexis"
   ]
  },
  {
   "cell_type": "markdown",
   "metadata": {},
   "source": [
    "## Preparing Inputs"
   ]
  },
  {
   "cell_type": "code",
   "execution_count": 25,
   "metadata": {},
   "outputs": [],
   "source": [
    "# Prepare connectivity matrix\n",
    "\n",
    "# Load connectivity matrix\n",
    "connectivity_df = pandas.read_csv('Connectivity matrix original.csv')\n",
    "\n",
    "# List of striatal regions to exclude from further analysis CAN EDIT THIS\n",
    "regions_to_exclude = ['Left-Pallidum','Right-Pallidum','Left-Accumbens-area','Right-Accumbens-area','Right-Putamen','Left-Putamen','Right-Caudate','Left-Caudate']\n",
    "\n",
    "# Find indices (in the region order of the connectivity matrix) for regions to exclude \n",
    "excluded_indices = [connectivity_df.columns.get_loc(region) for region in regions_to_exclude]\n",
    "\n",
    "# Delete striatal regions \n",
    "connectivity_df = connectivity_df.drop(index = excluded_indices)\n",
    "connectivity_df = connectivity_df.drop(columns=regions_to_exclude)\n",
    "\n",
    "# Convert connectivity matrix to a nROI x nROI array\n",
    "connectivity_matrix = connectivity_df.values\n",
    "\n",
    "# Normalize connectivity matrix \n",
    "max = np.max(connectivity_matrix)\n",
    "connectivity_matrix = connectivity_matrix / max\n",
    "\n",
    "# Define the number of regions  \n",
    "nROI = 86 - len(regions_to_exclude)"
   ]
  },
  {
   "cell_type": "code",
   "execution_count": 26,
   "metadata": {},
   "outputs": [],
   "source": [
    "# Initial vector\n",
    "\n",
    "# SET INITIAL VECTOR METHOD ('baseline' or 'binary')\n",
    "init_vec_method = 'binary' \n",
    "\n",
    "# Conversion of ADNI region order to match connectivity matrix\n",
    "new_order_ADNI = [68,69,70,71,72,73,74,75,76,77,78,79,80,81,82,83,84,85,34,35,36,37,38,39,40,41,42,43,44,45,46,47,48,49,50,51,52,53,54,55,56,57,58,59,60,61,62,63,64,65,66,67,0,1,2,3,4,5,6,7,8,9,10,11,12,13,14,15,16,17,18,19,20,21,22,23,24,25,26,27,28,29,30,31,32,33]\n",
    "\n",
    "# Order of regions (left subcortex, right subcortex, left cortex, right cortex)\n",
    "regions = ['Left-Cerebellum-Cortex','Left-Thalamus-Proper','Left-Hippocampus','Left-Amygdala','Left-VentralDC','Right-Cerebellum-Cortex','Right-Thalamus-Proper','Right-Hippocampus','Right-Amygdala','Right-VentralDC','ctx-lh-bankssts','ctx-lh-caudalanteriorcingulate','ctx-lh-caudalmiddlefrontal','ctx-lh-cuneus','ctx-lh-entorhinal','ctx-lh-fusiform','ctx-lh-inferiorparietal','ctx-lh-inferiortemporal','ctx-lh-isthmuscingulate','ctx-lh-lateraloccipital','ctx-lh-lateralorbitofrontal','ctx-lh-lingual','ctx-lh-medialorbitofrontal','ctx-lh-middletemporal','ctx-lh-parahippocampal','ctx-lh-paracentral','ctx-lh-parsopercularis','ctx-lh-parsorbitalis','ctx-lh-parstriangularis','ctx-lh-pericalcarine','ctx-lh-postcentral','ctx-lh-posteriorcingulate','ctx-lh-precentral','ctx-lh-precuneus','ctx-lh-rostralanteriorcingulate','ctx-lh-rostralmiddlefrontal','ctx-lh-superiorfrontal','ctx-lh-superiorparietal','ctx-lh-superiortemporal','ctx-lh-supramarginal','ctx-lh-frontalpole','ctx-lh-temporalpole','ctx-lh-transversetemporal','ctx-lh-insula', 'ctx-rh-bankssts', 'ctx-rh-caudalanteriorcingulate', 'ctx-rh-caudalmiddlefrontal', 'ctx-rh-cuneus',\t'ctx-rh-entorhinal', 'ctx-rh-fusiform','ctx-rh-inferiorparietal','ctx-rh-inferiortemporal',\t'ctx-rh-isthmuscingulate','ctx-rh-lateraloccipital','ctx-rh-lateralorbitofrontal','ctx-rh-lingual','ctx-rh-medialorbitofrontal','ctx-rh-middletemporal','ctx-rh-parahippocampal','ctx-rh-paracentral','ctx-rh-parsopercularis','ctx-rh-parsorbitalis','ctx-rh-parstriangularis','ctx-rh-pericalcarine','ctx-rh-postcentral','ctx-rh-posteriorcingulate',\t'ctx-rh-precentral',\t'ctx-rh-precuneus','ctx-rh-rostralanteriorcingulate','ctx-rh-rostralmiddlefrontal','ctx-rh-superiorfrontal','ctx-rh-superiorparietal','ctx-rh-superiortemporal','ctx-rh-supramarginal','ctx-rh-frontalpole','ctx-rh-temporalpole','ctx-rh-transversetemporal','ctx-rh-insula']\n",
    "\n",
    "# Use baseline data from EBM tau time series\n",
    "if init_vec_method == 'baseline':\n",
    "\n",
    "    init_con = pandas.read_csv('Regional tau time series.csv')\n",
    "\n",
    "    # Housekeeping\n",
    "    init_con = init_con.drop('Unnamed: 0',axis=1)\n",
    "\n",
    "    # Reorder regions \n",
    "    init_con_reordered = init_con.iloc[:, new_order_ADNI]\n",
    "\n",
    "    # Delete striatal regions \n",
    "    columns_to_delete = init_con_reordered.columns[excluded_indices]\n",
    "    init_con_excluded = init_con_reordered.drop(columns_to_delete, axis = 1)\n",
    "\n",
    "    # Take the first row (time point 0) as initial vector\n",
    "    init_vec = init_con_excluded.iloc[0].values\n",
    "\n",
    "    # Set use_baseline NEXIS input to 1 to indicate use of baseline data as initial vector  \n",
    "    use_baseline_ = 1 \n",
    "\n",
    "# Binary vector indicating seeding location \n",
    "if init_vec_method == 'binary': \n",
    "\n",
    "    seeding_locations = ['ctx-lh-entorhinal', 'ctx-rh-entorhinal'] # MANUALLY EDIT SEEDING LOCATION HERE\n",
    "    seeding_indices = [regions.index(item) for item in seeding_locations if item in seeding_locations]\n",
    "\n",
    "    # Create a 1D array of zeros with length nROI\n",
    "    array_length = nROI\n",
    "    init_vec = np.zeros(array_length)\n",
    "\n",
    "    # Set entries for seeding locations to 1 (both left and right hemisphere)\n",
    "    init_vec[seeding_indices[0]] = 1 \n",
    "    init_vec[seeding_indices[1]] = 1\n",
    "\n",
    "    # Set use_baseline NEXIS input to 0 to indicate use of binary initial vector \n",
    "    use_baseline_ = 0 "
   ]
  },
  {
   "cell_type": "code",
   "execution_count": 27,
   "metadata": {},
   "outputs": [],
   "source": [
    "# Load DK regional volumes \n",
    "regional_volumes = pandas.read_csv('DK_ROI_volumes.csv')\n",
    "\n",
    "# Convert to an 1 x nROI array \n",
    "regional_volumes = regional_volumes.values\n",
    "\n",
    "# Conversion of DK region order to match that of connectivity matrix \n",
    "new_order_DK = [68,69,70,71,72,73,74,75,76,77,78,79,80,81,82,83,84,85,0,1,2,3,4,5,6,7,8,9,10,11,12,13,14,15,16,17,18,19,20,21,22,23,24,25,26,27,28,29,30,31,32,33,34,35,36,37,38,39,40,41,42,43,44,45,46,47,48,49,50,51,52,53,54,55,56,57,58,59,60,61,62,63,64,65,66,67]\n",
    "regional_volumes_reordered = regional_volumes[new_order_DK, :]\n",
    "\n",
    "# Delete striatal regions\n",
    "regional_volumes_excluded = np.delete(regional_volumes_reordered,excluded_indices)"
   ]
  },
  {
   "cell_type": "code",
   "execution_count": 46,
   "metadata": {},
   "outputs": [],
   "source": [
    "# LOAD GENE DATA HERE (assuming DK region order)\n",
    "gene_data = pandas.read_csv('DK_Atlas_86_abagen_mapped_100-gene_exp_LcRcLsRs.csv')\n",
    "\n",
    "# SELECT genes of choice (should be a matrix of nROI x number of genes)\n",
    "selected_gene = ['ABCA1']\n",
    "gene_data_selected = gene_data.loc[:, selected_gene]\n",
    "gene_data_array = gene_data_selected.to_numpy()\n",
    "\n",
    "# Reorder and delete striatal regions \n",
    "gene_data_reordered = gene_data_array[new_order_DK, :]\n",
    "gene_data_excluded = np.delete(gene_data_reordered,excluded_indices)\n",
    "gene_data_excluded = gene_data_excluded.reshape(78,1)\n"
   ]
  },
  {
   "cell_type": "code",
   "execution_count": 47,
   "metadata": {},
   "outputs": [],
   "source": [
    "# Define inputs to NEXIS\n",
    "\n",
    "C_ = connectivity_matrix  # Connectivity matrix (nROI x nROI)\n",
    "init_vec_ = init_vec # Initial tau vector (nROI x 1)\n",
    "t_vec_ = np.linspace(0, 15, 16)  # Time vector in terms of stages outputted by EBM (19 stages)\n",
    "w_dir_ = 0  # Set to 0 which overwrites s as 0.5\n",
    "volcorrect_ = 1  # Binary flag set to 0 if not correcting for volume, set to 1 if correcting for volume and add regional volume data to regional_volumes\n",
    "region_volumes_ = regional_volumes_excluded  # Regional volumes for normalization (nROI x 1)\n",
    "logistic_term_ = 1 # Binary flag set to 1 to run with logistic term and 0 to run without\n",
    "datadir_ = \"../NDM output/NDM_output.csv\"  # Data directory for output\n",
    "\n",
    "# Cell type matrix (nROI x nTypes)\n",
    "U_global_= np.zeros((nROI, 1))\n",
    "U_gene_= gene_data_excluded "
   ]
  },
  {
   "cell_type": "markdown",
   "metadata": {},
   "source": [
    "## Load Patient Data"
   ]
  },
  {
   "cell_type": "code",
   "execution_count": 50,
   "metadata": {},
   "outputs": [],
   "source": [
    "# Upload patient data\n",
    "patient_data = pandas.read_csv('Cross-sectional stage and regional tau.csv')\n",
    "\n",
    "# Reorder regions\n",
    "subset_columns = patient_data.columns[3:][new_order_ADNI]  \n",
    "final_columns = list(patient_data.columns[:3]) + list(subset_columns)\n",
    "patient_data = patient_data[final_columns]\n",
    "\n",
    "# Delete striatal regions \n",
    "patient_data = patient_data.drop(regions_to_exclude, axis = 1)"
   ]
  },
  {
   "cell_type": "code",
   "execution_count": 51,
   "metadata": {},
   "outputs": [],
   "source": [
    "# If analyzing an individual patient... (use this to test that the model is working before looping through all patients)\n",
    "\n",
    "patient = patient_data[patient_data['RID'] == 21] # MANUALLY SET RID HERE\n",
    "\n",
    "# Define number of time points \n",
    "num_time_points = patient.shape[0]\n",
    "\n",
    "# Define list with stage assingments for each time point \n",
    "stages = patient['ml_stage'].tolist()\n",
    "stages = [int(x) for x in stages]\n",
    "\n",
    "# Define patient tau data\n",
    "patient_tau = patient.iloc[:,3:]\n",
    "\n",
    "# Convert to array and transpose so dim = nROI x # of stages\n",
    "patient_tau = patient_tau.to_numpy()\n",
    "patient_tau = patient_tau.T"
   ]
  },
  {
   "cell_type": "markdown",
   "metadata": {},
   "source": [
    "## Parameter Optimization"
   ]
  },
  {
   "cell_type": "code",
   "execution_count": 52,
   "metadata": {},
   "outputs": [],
   "source": [
    "# Initialize nexis global\n",
    "nexis_model_global = run_Nexis(C_=C_, U_=U_global_, init_vec_=init_vec_, t_vec_=t_vec_, w_dir_=w_dir_,\n",
    "                        volcorrect_=volcorrect_, use_baseline_=use_baseline_,\n",
    "                        region_volumes_=region_volumes_, logistic_term_=logistic_term_, datadir_=datadir_)\n",
    "\n",
    "# Initialize nexis gene \n",
    "nexis_model_gene = run_Nexis(C_=C_, U_=U_gene_, init_vec_=init_vec_, t_vec_=t_vec_, w_dir_=w_dir_,\n",
    "                        volcorrect_=volcorrect_, use_baseline_=use_baseline_,\n",
    "                         region_volumes_=region_volumes_, logistic_term_=logistic_term_, datadir_=datadir_)"
   ]
  },
  {
   "cell_type": "code",
   "execution_count": 53,
   "metadata": {},
   "outputs": [
    {
     "name": "stdout",
     "output_type": "stream",
     "text": [
      "Optimization successful. Optimized parameters (alpha, beta, gamma, s, b, p, k): [0.046657022154627435, 1.0084108378551238, 1.0033620897936841, 0.5, 0.0, 0.0, 20.000000144328983]\n"
     ]
    }
   ],
   "source": [
    "# Customize error function for patient tau, stages, and version of Nexis (gene and global)\n",
    "custom_Nexis_error_global = partial(Nexis_error, patient_tau=patient_tau, stages=stages, nexis_model=nexis_model_global)\n",
    "custom_Nexis_error_gene = partial(Nexis_error, patient_tau=patient_tau, stages=stages, nexis_model=nexis_model_gene)\n",
    "\n",
    "# Initial guesses for parameters (alpha, beta, gamma, s, b, p, k) CAN ADJUST THESE\n",
    "init_guess = np.array([0.04, 1.01, 1, 0.5, 0, 0, 20])\n",
    "\n",
    "# Bounds for each parameter [(min alpha, max alpha), (min beta, max beta), (min gamma, max gamma), etc. CAN ADJUST THESE\n",
    "bounds = [(0, 2),(0, 5),(0,3),(0.5, 0.5),(0,0),(0,0),(0,50)]\n",
    "\n",
    "# Perform the optimization (currently set to global) TEST BOTH GLOBAL AND GENE\n",
    "result = minimize(custom_Nexis_error_gene, init_guess, bounds=bounds, method='L-BFGS-B', \n",
    "                  options={'ftol': 1e-3, 'gtol': 1e-3,'maxiter': 1000})\n",
    "\n",
    "# Check the results\n",
    "if result.success:\n",
    "    optimized_params = result.x\n",
    "    optimized_params = optimized_params.tolist( )\n",
    "    print(f\"Optimization successful. Optimized parameters (alpha, beta, gamma, s, b, p, k): {optimized_params}\")\n",
    "else:\n",
    "    print(\"Optimization failed.\", result.message)"
   ]
  },
  {
   "cell_type": "markdown",
   "metadata": {},
   "source": [
    "## Running Nexis"
   ]
  },
  {
   "cell_type": "code",
   "execution_count": 54,
   "metadata": {},
   "outputs": [
    {
     "data": {
      "image/png": "[encoded data removed]",
      "text/plain": [
       "<Figure size 640x480 with 2 Axes>"
      ]
     },
     "metadata": {},
     "output_type": "display_data"
    }
   ],
   "source": [
    "# Parameters for simulate_nexis method\n",
    "parameters = optimized_params  # (alpha, beta, gamma, b, p, k) CAN MANUALLY SET PARAMETERS HERE\n",
    "\n",
    "# Call the simulate_nexis method with the optimized parameters (currently set to global) TEST BOTH GLOBAL AND GENE\n",
    "Y = nexis_model_global.simulate_nexis(parameters)\n",
    "\n",
    "# Take stages from Y that correspond to patient's stages \n",
    "Y_edited = Y[:, stages]\n",
    "\n",
    "# Plot heatmap of Y\n",
    "plt = heatmap(init_vec_method, Y)"
   ]
  },
  {
   "cell_type": "markdown",
   "metadata": {},
   "source": [
    "## Check Results"
   ]
  },
  {
   "cell_type": "code",
   "execution_count": 55,
   "metadata": {},
   "outputs": [
    {
     "name": "stdout",
     "output_type": "stream",
     "text": [
      "Pearson's R: 0.13940975220288626\n",
      "P-value: 0.2234863111964016\n"
     ]
    }
   ],
   "source": [
    "# Calculate Pearson's correlation coefficient R \n",
    "patient_tau_reshaped = patient_tau.reshape(-1)\n",
    "Y_edited_reshaped = Y_edited.reshape(-1)\n",
    "R, p_value = pearsonr(patient_tau_reshaped, Y_edited_reshaped)\n",
    "print(\"Pearson's R:\", R)\n",
    "print(\"P-value:\", p_value)"
   ]
  },
  {
   "cell_type": "code",
   "execution_count": 56,
   "metadata": {},
   "outputs": [
    {
     "data": {
      "text/plain": [
       "<function matplotlib.pyplot.show(close=None, block=None)>"
      ]
     },
     "execution_count": 56,
     "metadata": {},
     "output_type": "execute_result"
    },
    {
     "data": {
      "image/png": "[encoded data removed]",
      "text/plain": [
       "<Figure size 1000x600 with 1 Axes>"
      ]
     },
     "metadata": {},
     "output_type": "display_data"
    }
   ],
   "source": [
    "# Plot total tau over time \n",
    "\n",
    "# Calculate total tau based on regional volumes and tau density \n",
    "regional_volumes_array = np.array(regional_volumes_excluded)\n",
    "regional_volumes_array = regional_volumes_array.reshape((78,1))\n",
    "tau_mass_Y = regional_volumes_array * Y \n",
    "total_tau_Y = np.sum(tau_mass_Y, axis=0)\n",
    "tau_mass_patient = regional_volumes_array * patient_tau\n",
    "total_tau_patient = np.sum(tau_mass_patient, axis=0)\n",
    "\n",
    "time_points_Y = np.linspace(0, 15, 16)\n",
    "\n",
    "plt.figure(figsize=(10, 6))\n",
    "\n",
    "# Plot total_tau_Y\n",
    "plt.plot(time_points_Y, total_tau_Y, marker='o', linestyle='-', color='b', label= 'Y')  \n",
    "\n",
    "# Plot total_tau_patient on the same graph\n",
    "plt.plot(stages, total_tau_patient, marker='x', linestyle='--', color='r', label= 'patient', markersize=15, markeredgewidth=3)\n",
    "plt.title('Total tau over time') \n",
    "plt.xlabel('Time')  # Label the x-axis\n",
    "plt.ylabel('Total tau')  # Label the y-axis\n",
    "plt.xticks(rotation=45)  # Optional: rotate x-axis labels for better readability\n",
    "plt.legend()  # Add a legend to distinguish the two lines\n",
    "\n",
    "# Show the plot\n",
    "plt.show"
   ]
  },
  {
   "cell_type": "markdown",
   "metadata": {},
   "source": [
    "## Loop through all patients"
   ]
  },
  {
   "cell_type": "code",
   "execution_count": 57,
   "metadata": {},
   "outputs": [
    {
     "name": "stderr",
     "output_type": "stream",
     "text": [
      "/var/folders/bd/p6dnm7ns0tb9glfgc_h835k40000gn/T/ipykernel_42464/1398290857.py:62: FutureWarning: The behavior of DataFrame concatenation with empty or all-NA entries is deprecated. In a future version, this will no longer exclude empty or all-NA columns when determining the result dtypes. To retain the old behavior, exclude the relevant entries before the concat operation.\n",
      "  results = pandas.concat([results, new_rows], ignore_index=True)\n"
     ]
    },
    {
     "ename": "KeyboardInterrupt",
     "evalue": "",
     "output_type": "error",
     "traceback": [
      "\u001b[0;31m---------------------------------------------------------------------------\u001b[0m",
      "\u001b[0;31mKeyboardInterrupt\u001b[0m                         Traceback (most recent call last)",
      "Cell \u001b[0;32mIn[57], line 33\u001b[0m\n\u001b[1;32m     31\u001b[0m     optimized_params_global \u001b[39m=\u001b[39m result\u001b[39m.\u001b[39mx\n\u001b[1;32m     32\u001b[0m     optimized_params_global \u001b[39m=\u001b[39m optimized_params_global\u001b[39m.\u001b[39mtolist( )\n\u001b[0;32m---> 33\u001b[0m Y \u001b[39m=\u001b[39m nexis_model_global\u001b[39m.\u001b[39;49msimulate_nexis(optimized_params_global)\n\u001b[1;32m     34\u001b[0m Y_edited \u001b[39m=\u001b[39m Y[:, stages]\n\u001b[1;32m     35\u001b[0m Y_edited_reshaped \u001b[39m=\u001b[39m Y_edited\u001b[39m.\u001b[39mreshape(\u001b[39m-\u001b[39m\u001b[39m1\u001b[39m)\n",
      "File \u001b[0;32m~/Desktop/Raj Lab/EBM + Nexis/Selective Vulnerability/CODE Nexis Human/Nexis_human_model.py:73\u001b[0m, in \u001b[0;36mrun_Nexis.simulate_nexis\u001b[0;34m(self, parameters)\u001b[0m\n\u001b[1;32m     69\u001b[0m     voxels_2hem \u001b[39m=\u001b[39m \u001b[39mself\u001b[39m\u001b[39m.\u001b[39mregion_volumes\n\u001b[1;32m     71\u001b[0m     inv_voxels_2hem \u001b[39m=\u001b[39m np\u001b[39m.\u001b[39mdiag(np\u001b[39m.\u001b[39msqueeze(voxels_2hem)\u001b[39m.\u001b[39mastype(\u001b[39mfloat\u001b[39m) \u001b[39m*\u001b[39m\u001b[39m*\u001b[39m (\u001b[39m-\u001b[39m\u001b[39m1\u001b[39m))\n\u001b[0;32m---> 73\u001b[0m     L \u001b[39m=\u001b[39m np\u001b[39m.\u001b[39mmean(voxels_2hem) \u001b[39m*\u001b[39m np\u001b[39m.\u001b[39;49mdot(inv_voxels_2hem,L)\n\u001b[1;32m     75\u001b[0m \u001b[39m# Define system dydt = Ax\u001b[39;00m\n\u001b[1;32m     76\u001b[0m A \u001b[39m=\u001b[39m Gamma \u001b[39m-\u001b[39m (beta \u001b[39m*\u001b[39m L)\n",
      "\u001b[0;31mKeyboardInterrupt\u001b[0m: "
     ]
    }
   ],
   "source": [
    "# Avoid repeating any RIDS\n",
    "unique_rids = patient_data['RID'].unique()\n",
    "\n",
    "# Create a data frame to collect results for each patient\n",
    "results = pandas.DataFrame(columns = ['RID','Model','R squared','alpha','beta','gamma','s','p','b','k'])\n",
    "\n",
    "# Loop through all patients \n",
    "for rid in unique_rids: \n",
    "\n",
    "    patient = patient_data[patient_data['RID'] == rid] \n",
    "\n",
    "    # Define number of time points \n",
    "    num_time_points = patient.shape[0]\n",
    "\n",
    "    # Define list with stage assingments for each time point\n",
    "    stages = patient['ml_stage'].tolist()\n",
    "    stages = [int(x) for x in stages]\n",
    "\n",
    "    # Define patient tau data\n",
    "    patient_tau = patient.iloc[:,3:]\n",
    "\n",
    "    # Convert to array and transpose so dim = nROI x # of stages\n",
    "    patient_tau = patient_tau.to_numpy()\n",
    "    patient_tau = patient_tau.T\n",
    "    patient_tau_reshaped = patient_tau.reshape(-1)\n",
    "\n",
    "    # Run Nexis global and calculate R squared\n",
    "    result = minimize(custom_Nexis_error_global, init_guess, bounds=bounds, method='L-BFGS-B', \n",
    "                    options={'ftol': 1e-3, 'gtol': 1e-3,'maxiter': 1000})\n",
    "    if result.success:\n",
    "        optimized_params_global = result.x\n",
    "        optimized_params_global = optimized_params_global.tolist( )\n",
    "    Y = nexis_model_global.simulate_nexis(optimized_params_global)\n",
    "    Y_edited = Y[:, stages]\n",
    "    Y_edited_reshaped = Y_edited.reshape(-1)\n",
    "    R_global, p_value_global = pearsonr(patient_tau_reshaped, Y_edited_reshaped)\n",
    "    R_squared_global = R_global ** 2\n",
    "\n",
    "    # Run Nexis with gene and calculate R squared\n",
    "    result = minimize(custom_Nexis_error_gene, init_guess, bounds=bounds, method='L-BFGS-B', \n",
    "                    options={'ftol': 1e-3, 'gtol': 1e-3,'maxiter': 1000})\n",
    "    if result.success:\n",
    "        optimized_params_gene = result.x\n",
    "        optimized_params_gene = optimized_params_gene.tolist()\n",
    "    Y = nexis_model_gene.simulate_nexis(optimized_params_gene)\n",
    "    Y_edited = Y[:, stages]\n",
    "    Y_edited_reshaped = Y_edited.reshape(-1)\n",
    "    R_gene, p_value_gene = pearsonr(patient_tau_reshaped, Y_edited_reshaped)\n",
    "    R_squared_gene = R_gene ** 2\n",
    "\n",
    "    # Add to data frame\n",
    "    new_rows = pandas.DataFrame({'RID': [rid, rid], 'Model':['Global','Gene'], \n",
    "                                 'R squared': [R_squared_global, R_squared_gene],\n",
    "                                'alpha': [optimized_params_global[0], optimized_params_gene[0]],\n",
    "                                'beta': [optimized_params_global[1], optimized_params_gene[1]],\n",
    "                                'gamma': [optimized_params_global[2], optimized_params_gene[2]],\n",
    "                                's':[optimized_params_global[3], optimized_params_gene[3]],\n",
    "                                'b':[optimized_params_global[4], optimized_params_gene[4]],\n",
    "                                'p':[optimized_params_global[5], optimized_params_gene[5]],\n",
    "                                'k':[optimized_params_global[6], optimized_params_gene[6]]})\n",
    "    \n",
    "    results = pandas.concat([results, new_rows], ignore_index=True)\n",
    "\n",
    "\n",
    "# Print data frame\n",
    "results\n"
   ]
  },
  {
   "cell_type": "code",
   "execution_count": null,
   "metadata": {},
   "outputs": [],
   "source": [
    "# Save to csv\n",
    "results.to_csv('.csv')"
   ]
  }
 ],
 "metadata": {
  "kernelspec": {
   "display_name": "Python 3",
   "language": "python",
   "name": "python3"
  },
  "language_info": {
   "codemirror_mode": {
    "name": "ipython",
    "version": 3
   },
   "file_extension": ".py",
   "mimetype": "text/x-python",
   "name": "python",
   "nbconvert_exporter": "python",
   "pygments_lexer": "ipython3",
   "version": "3.9.18"
  },
  "orig_nbformat": 4
 },
 "nbformat": 4,
 "nbformat_minor": 2
}
